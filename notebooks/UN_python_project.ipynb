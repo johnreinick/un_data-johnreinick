{
 "cells": [
  {
   "cell_type": "markdown",
   "id": "7642730d",
   "metadata": {},
   "source": [
    "### #4"
   ]
  },
  {
   "cell_type": "code",
   "execution_count": null,
   "id": "e87ee502",
   "metadata": {},
   "outputs": [],
   "source": [
    "import pandas as pd\n",
    "import numpy as np\n",
    "import matplotlib.pyplot as plt\n",
    "import seaborn as sns\n",
    "\n",
    "%matplotlib inline"
   ]
  },
  {
   "cell_type": "code",
   "execution_count": null,
   "id": "4ab5e696",
   "metadata": {},
   "outputs": [],
   "source": [
    "gdp_df = pd.read_csv('../data/gdp_percapita.csv')\n",
    "gdp_df.head()"
   ]
  },
  {
   "cell_type": "code",
   "execution_count": null,
   "id": "58dd8c89",
   "metadata": {},
   "outputs": [],
   "source": [
    "gdp_df = pd.read_csv('../data/gdp_percapita.csv', nrows =7177)"
   ]
  },
  {
   "cell_type": "code",
   "execution_count": null,
   "id": "d847a72f",
   "metadata": {},
   "outputs": [],
   "source": [
    "gdp_df"
   ]
  },
  {
   "cell_type": "markdown",
   "id": "d78b5622",
   "metadata": {},
   "source": [
    "### #5"
   ]
  },
  {
   "cell_type": "code",
   "execution_count": null,
   "id": "06847944",
   "metadata": {},
   "outputs": [],
   "source": [
    "gdp_df.shape"
   ]
  },
  {
   "cell_type": "markdown",
   "id": "fee16208",
   "metadata": {},
   "source": [
    "### #6"
   ]
  },
  {
   "cell_type": "code",
   "execution_count": null,
   "id": "335ccfd6",
   "metadata": {},
   "outputs": [],
   "source": [
    "gdp_df.dtypes"
   ]
  },
  {
   "cell_type": "code",
   "execution_count": null,
   "id": "7f87d116",
   "metadata": {},
   "outputs": [],
   "source": [
    "gdp_df = gdp_df.drop(columns = ['Value Footnotes'])"
   ]
  },
  {
   "cell_type": "code",
   "execution_count": null,
   "id": "ec93bc98",
   "metadata": {},
   "outputs": [],
   "source": [
    "gdp_df.columns = ['Country', 'Year', 'GDP_Per_Capita']"
   ]
  },
  {
   "cell_type": "code",
   "execution_count": null,
   "id": "bfbcb907",
   "metadata": {},
   "outputs": [],
   "source": [
    "gdp_df"
   ]
  },
  {
   "cell_type": "code",
   "execution_count": null,
   "id": "954b1217",
   "metadata": {
    "scrolled": false
   },
   "outputs": [],
   "source": [
    "gdp_df[gdp_df.iloc[:, 2]=='NaN']"
   ]
  },
  {
   "cell_type": "markdown",
   "id": "e78dafa3",
   "metadata": {},
   "source": [
    "### #7 not finished"
   ]
  },
  {
   "cell_type": "code",
   "execution_count": null,
   "id": "c997d7cb",
   "metadata": {},
   "outputs": [],
   "source": [
    "gdp_year_count = gdp_df.Country.value_counts()\n",
    "gdp_year_count"
   ]
  },
  {
   "cell_type": "code",
   "execution_count": null,
   "id": "16ecc3cd",
   "metadata": {},
   "outputs": [],
   "source": [
    "gdp_year_count = gdp_year_count.reset_index()"
   ]
  },
  {
   "cell_type": "code",
   "execution_count": null,
   "id": "62dac61f",
   "metadata": {},
   "outputs": [],
   "source": [
    "gdp_year_count"
   ]
  },
  {
   "cell_type": "code",
   "execution_count": null,
   "id": "9b2a12f7",
   "metadata": {},
   "outputs": [],
   "source": [
    "gdp_year_count = gdp_year_count.rename(columns = {'index' :'Country', 'Country' : 'Year_count'})"
   ]
  },
  {
   "cell_type": "code",
   "execution_count": null,
   "id": "397f0529",
   "metadata": {},
   "outputs": [],
   "source": [
    "gdp_year_count"
   ]
  },
  {
   "cell_type": "markdown",
   "id": "d4aa35c6",
   "metadata": {},
   "source": [
    "### observations by country"
   ]
  },
  {
   "cell_type": "code",
   "execution_count": null,
   "id": "e2f5504f",
   "metadata": {},
   "outputs": [],
   "source": [
    "gdp_year_count.loc[gdp_year_count['Year_count']< 31]"
   ]
  },
  {
   "cell_type": "markdown",
   "id": "b4fc1951",
   "metadata": {},
   "source": [
    "### observations by year"
   ]
  },
  {
   "cell_type": "code",
   "execution_count": null,
   "id": "3f2b3906",
   "metadata": {},
   "outputs": [],
   "source": [
    "gdp_df.Year.value_counts()"
   ]
  },
  {
   "cell_type": "code",
   "execution_count": null,
   "id": "764506cf",
   "metadata": {},
   "outputs": [],
   "source": [
    "data_2020 = gdp_df[gdp_df.Year == 2020]"
   ]
  },
  {
   "cell_type": "markdown",
   "id": "679f9708",
   "metadata": {},
   "source": [
    "### #8"
   ]
  },
  {
   "cell_type": "code",
   "execution_count": null,
   "id": "9583c082",
   "metadata": {},
   "outputs": [],
   "source": [
    "plt.hist(data_2020.GDP_Per_Capita) #histogram plot"
   ]
  },
  {
   "cell_type": "code",
   "execution_count": null,
   "id": "697817e4",
   "metadata": {},
   "outputs": [],
   "source": [
    "sns.kdeplot(data_2020.GDP_Per_Capita) #density plot with seaborn"
   ]
  },
  {
   "cell_type": "code",
   "execution_count": null,
   "id": "8dd2b940",
   "metadata": {},
   "outputs": [],
   "source": [
    "sns.boxplot(data_2020.GDP_Per_Capita) #boxplot with seaborn"
   ]
  },
  {
   "cell_type": "code",
   "execution_count": null,
   "id": "a28f3772",
   "metadata": {},
   "outputs": [],
   "source": [
    "sns.violinplot(data_2020.GDP_Per_Capita) #violinplot with seaborn"
   ]
  },
  {
   "cell_type": "markdown",
   "id": "922bb2f3",
   "metadata": {},
   "source": [
    "### #9"
   ]
  },
  {
   "cell_type": "code",
   "execution_count": null,
   "id": "39b2fac5",
   "metadata": {},
   "outputs": [],
   "source": [
    "data_2020.GDP_Per_Capita.median()"
   ]
  },
  {
   "cell_type": "markdown",
   "id": "0b280224",
   "metadata": {},
   "source": [
    "### #10"
   ]
  },
  {
   "cell_type": "code",
   "execution_count": null,
   "id": "a49bdc57",
   "metadata": {},
   "outputs": [],
   "source": [
    "gdp_decades = gdp_df.loc[(gdp_df['Year'] == 1990) | (gdp_df['Year'] == 2000) | \n",
    "                         (gdp_df['Year'] == 2010) | (gdp_df['Year'] == 2020)]"
   ]
  },
  {
   "cell_type": "code",
   "execution_count": null,
   "id": "10a4ed11",
   "metadata": {},
   "outputs": [],
   "source": [
    "sns.boxplot(gdp_decades.GDP_Per_Capita)\n",
    "sns.boxplot(x=gdp_decades['Year'], y=gdp_decades['GDP_Per_Capita']) #boxchart for gdp per decade in seaborn"
   ]
  },
  {
   "cell_type": "code",
   "execution_count": null,
   "id": "b5fe3222",
   "metadata": {},
   "outputs": [],
   "source": [
    "sns.barplot(gdp_decades.GDP_Per_Capita)\n",
    "sns.barplot(x=gdp_decades['Year'], y=gdp_decades['GDP_Per_Capita']) #barchart based on capita per decade in seaborn"
   ]
  },
  {
   "cell_type": "code",
   "execution_count": null,
   "id": "59d41d91",
   "metadata": {},
   "outputs": [],
   "source": [
    "sns.regplot(x=gdp_decades[\"Year\"], y=gdp_decades[\"GDP_Per_Capita\"],\n",
    "           line_kws={\"color\":\"g\",\"alpha\":1,\"lw\":3}) #seaborn scatter plot showing average gdp across the 4 decades"
   ]
  },
  {
   "cell_type": "markdown",
   "id": "4ac9faa3",
   "metadata": {},
   "source": [
    "### #11"
   ]
  },
  {
   "cell_type": "code",
   "execution_count": null,
   "id": "e274995f",
   "metadata": {},
   "outputs": [],
   "source": [
    "gdp_10000 = gdp_df.query('GDP_Per_Capita > 99999')"
   ]
  },
  {
   "cell_type": "code",
   "execution_count": null,
   "id": "d3499abe",
   "metadata": {},
   "outputs": [],
   "source": [
    "gdp_10000.sort_values(by = 'Year', ascending = True).head(1)"
   ]
  },
  {
   "cell_type": "markdown",
   "id": "dd3f114c",
   "metadata": {},
   "source": [
    "### #12"
   ]
  },
  {
   "cell_type": "code",
   "execution_count": null,
   "id": "5005246f",
   "metadata": {},
   "outputs": [],
   "source": [
    "data_2020.sort_values(by = 'GDP_Per_Capita', ascending = False)"
   ]
  },
  {
   "cell_type": "code",
   "execution_count": null,
   "id": "8f5526ac",
   "metadata": {},
   "outputs": [],
   "source": [
    "Lux_gdp = gdp_df[gdp_df.Country == 'Luxembourg']"
   ]
  },
  {
   "cell_type": "code",
   "execution_count": null,
   "id": "93e338c9",
   "metadata": {},
   "outputs": [],
   "source": [
    "Lux_gdp"
   ]
  },
  {
   "cell_type": "code",
   "execution_count": null,
   "id": "78eef991",
   "metadata": {},
   "outputs": [],
   "source": [
    "sns.regplot(x=Lux_gdp[\"Year\"], y=Lux_gdp[\"GDP_Per_Capita\"])"
   ]
  },
  {
   "cell_type": "markdown",
   "id": "e7713d53",
   "metadata": {},
   "source": [
    "### #13"
   ]
  },
  {
   "cell_type": "code",
   "execution_count": null,
   "id": "4f460092",
   "metadata": {},
   "outputs": [],
   "source": [
    "Bur_gdp = gdp_df[gdp_df.Country == 'Burundi']\n",
    "Bur_gdp"
   ]
  },
  {
   "cell_type": "code",
   "execution_count": null,
   "id": "b4cf93c3",
   "metadata": {},
   "outputs": [],
   "source": [
    "sns.regplot(x=Bur_gdp[\"Year\"], y=Bur_gdp[\"GDP_Per_Capita\"])"
   ]
  },
  {
   "cell_type": "markdown",
   "id": "0a978d18",
   "metadata": {},
   "source": [
    "### Bonus 13"
   ]
  },
  {
   "cell_type": "code",
   "execution_count": null,
   "id": "69a385d9",
   "metadata": {},
   "outputs": [],
   "source": [
    "data_1990 = gdp_df[gdp_df.Year == 1990]\n",
    "data_1990"
   ]
  },
  {
   "cell_type": "code",
   "execution_count": null,
   "id": "4f3fd79f",
   "metadata": {},
   "outputs": [],
   "source": [
    "data_bonus12 = pd.merge(data_1990, data_2020, left_on = 'Country', right_on = 'Country',\n",
    "        how = 'left')\n",
    "data_bonus12"
   ]
  },
  {
   "cell_type": "code",
   "execution_count": null,
   "id": "1cc77766",
   "metadata": {},
   "outputs": [],
   "source": [
    "data_bonus12.value_counts([data_bonus12.GDP_Per_Capita_x > data_bonus12.GDP_Per_Capita_y])"
   ]
  },
  {
   "cell_type": "code",
   "execution_count": null,
   "id": "41ece6e1",
   "metadata": {},
   "outputs": [],
   "source": [
    "data_bonus13 = data_bonus12.rename(columns = {'GDP_Per_Capita_x' : 'gdp_1990', 'GDP_Per_Capita_y' : 'gdp_2020'})\n"
   ]
  },
  {
   "cell_type": "code",
   "execution_count": null,
   "id": "20e86027",
   "metadata": {},
   "outputs": [],
   "source": [
    "data_bonus13"
   ]
  },
  {
   "cell_type": "code",
   "execution_count": null,
   "id": "ae9ff06c",
   "metadata": {},
   "outputs": [],
   "source": [
    "data_bonus13 = data_bonus13.drop(columns = ['Year_x', 'Year_y'])"
   ]
  },
  {
   "cell_type": "code",
   "execution_count": null,
   "id": "96898134",
   "metadata": {},
   "outputs": [],
   "source": [
    "data_bonus13"
   ]
  },
  {
   "cell_type": "code",
   "execution_count": null,
   "id": "2c543ceb",
   "metadata": {},
   "outputs": [],
   "source": [
    "data_bonus13[data_bonus13.gdp_1990 > data_bonus13.gdp_2020]"
   ]
  },
  {
   "cell_type": "markdown",
   "id": "b0b7a18e",
   "metadata": {},
   "source": [
    "### #14"
   ]
  },
  {
   "cell_type": "code",
   "execution_count": null,
   "id": "b5de2bb3",
   "metadata": {},
   "outputs": [],
   "source": [
    "internet_df = pd.read_csv('../data/internet_use.csv', nrows = 4495)\n",
    "internet_df"
   ]
  },
  {
   "cell_type": "code",
   "execution_count": null,
   "id": "fb627707",
   "metadata": {},
   "outputs": [],
   "source": [
    "internet_df.info()"
   ]
  },
  {
   "cell_type": "markdown",
   "id": "996a9720",
   "metadata": {},
   "source": [
    "### #15"
   ]
  },
  {
   "cell_type": "code",
   "execution_count": null,
   "id": "1884b723",
   "metadata": {},
   "outputs": [],
   "source": [
    "internet_df = internet_df.drop(columns = ['Value Footnotes'])\n",
    "internet_df"
   ]
  },
  {
   "cell_type": "code",
   "execution_count": null,
   "id": "8d76b3d6",
   "metadata": {},
   "outputs": [],
   "source": [
    "internet_df = internet_df.rename(columns = {'Country or Area' : 'Country', 'Year' : 'Year', 'Value' : 'Internet_Users_Pct'})\n",
    "internet_df"
   ]
  },
  {
   "cell_type": "markdown",
   "id": "f85446d8",
   "metadata": {},
   "source": [
    "### #16"
   ]
  },
  {
   "cell_type": "code",
   "execution_count": null,
   "id": "1f5f94db",
   "metadata": {},
   "outputs": [],
   "source": [
    "internet_df.Year.value_counts()[internet_df.Year.unique()]"
   ]
  },
  {
   "cell_type": "markdown",
   "id": "7e648a34",
   "metadata": {},
   "source": [
    "### #17"
   ]
  },
  {
   "cell_type": "code",
   "execution_count": null,
   "id": "735f071b",
   "metadata": {},
   "outputs": [],
   "source": [
    "internet_df.query('Internet_Users_Pct != 0').sort_values(by = 'Year', ascending = True)\n"
   ]
  },
  {
   "cell_type": "markdown",
   "id": "0336bc57",
   "metadata": {},
   "source": [
    "### #18"
   ]
  },
  {
   "cell_type": "code",
   "execution_count": null,
   "id": "b4e0eaf1",
   "metadata": {},
   "outputs": [],
   "source": [
    "int_use_post_2000 = internet_df[internet_df.Year.between(2000, 2014)]"
   ]
  },
  {
   "cell_type": "code",
   "execution_count": null,
   "id": "71c7599e",
   "metadata": {},
   "outputs": [],
   "source": [
    "sns.regplot(x=int_use_post_2000[\"Year\"], y=int_use_post_2000[\"Internet_Users_Pct\"])"
   ]
  },
  {
   "cell_type": "markdown",
   "id": "ff6aae32",
   "metadata": {},
   "source": [
    "### #19"
   ]
  },
  {
   "cell_type": "code",
   "execution_count": null,
   "id": "d64541d2",
   "metadata": {},
   "outputs": [],
   "source": [
    "internet_df.query(('Internet_Users_Pct < 5.0 and Year == 2014')).sort_values(by = 'Internet_Users_Pct')"
   ]
  },
  {
   "cell_type": "markdown",
   "id": "b693f6ab",
   "metadata": {},
   "source": [
    "### #20"
   ]
  },
  {
   "cell_type": "code",
   "execution_count": null,
   "id": "20955a04",
   "metadata": {},
   "outputs": [],
   "source": [
    "gdp_and_internet_use = pd.merge(gdp_df, internet_df, left_on = ['Country','Year'], right_on = ['Country', 'Year'], how = 'outer')\n",
    "gdp_and_internet_use"
   ]
  },
  {
   "cell_type": "markdown",
   "id": "70de4ac8",
   "metadata": {},
   "source": [
    "### #21"
   ]
  },
  {
   "cell_type": "code",
   "execution_count": null,
   "id": "76906ccd",
   "metadata": {},
   "outputs": [],
   "source": [
    "gdp_and_internet_use.loc[gdp_and_internet_use.Year == 2014].sort_values(by = 'Internet_Users_Pct', ascending = False).head(3)"
   ]
  },
  {
   "cell_type": "code",
   "execution_count": null,
   "id": "6d281e0f",
   "metadata": {},
   "outputs": [],
   "source": [
    "fg_2014 = gdp_and_internet_use.loc[(gdp_and_internet_use['Country'] == 'Iceland') |\n",
    "                         (gdp_and_internet_use['Country'] == 'Bermuda') |\n",
    "                         (gdp_and_internet_use['Country'] == 'Norway')]\n",
    "fg_2014"
   ]
  },
  {
   "cell_type": "code",
   "execution_count": null,
   "id": "f8125232",
   "metadata": {},
   "outputs": [],
   "source": [
    "top_int_use = sns.FacetGrid(fg_2014, col = 'Country')\n",
    "  \n",
    "top_int_use.map_dataframe(sns.histplot, x='Year', y='Internet_Users_Pct')"
   ]
  },
  {
   "cell_type": "markdown",
   "id": "a19f59d9",
   "metadata": {},
   "source": [
    "### #22"
   ]
  },
  {
   "cell_type": "code",
   "execution_count": null,
   "id": "b855510a",
   "metadata": {},
   "outputs": [],
   "source": [
    "gdp_and_internet_use_2014 = gdp_and_internet_use.query('Year == 2014')\n",
    "gdp_and_internet_use_2014"
   ]
  },
  {
   "cell_type": "markdown",
   "id": "b81e5957",
   "metadata": {},
   "source": [
    "### #23"
   ]
  },
  {
   "cell_type": "code",
   "execution_count": null,
   "id": "25301c75",
   "metadata": {},
   "outputs": [],
   "source": [
    "sns.regplot(x=gdp_and_internet_use_2014[\"Internet_Users_Pct\"], y=gdp_and_internet_use_2014[\"GDP_Per_Capita\"])\n"
   ]
  },
  {
   "cell_type": "code",
   "execution_count": null,
   "id": "990c6686",
   "metadata": {},
   "outputs": [],
   "source": [
    "gdp_and_internet_use_2014.sort_values(by = 'GDP_Per_Capita', ascending = False)"
   ]
  },
  {
   "cell_type": "markdown",
   "id": "e78e132f",
   "metadata": {},
   "source": [
    "### #24"
   ]
  },
  {
   "cell_type": "code",
   "execution_count": null,
   "id": "b516511a",
   "metadata": {},
   "outputs": [],
   "source": [
    "gdp_and_internet_use_2014['GDP_Group'] = pd.qcut(gdp_and_internet_use_2014['GDP_Per_Capita'], 3,\n",
    "                                                 ['Low', 'Medium', 'High'])\n",
    "gdp_and_internet_use_2014.sort_values(by = 'GDP_Group', ascending = True)"
   ]
  },
  {
   "cell_type": "markdown",
   "id": "7fbe169d",
   "metadata": {},
   "source": [
    "### #25"
   ]
  },
  {
   "cell_type": "code",
   "execution_count": null,
   "id": "348cf6c5",
   "metadata": {},
   "outputs": [],
   "source": [
    "gdp_and_internet_use_2014.groupby('GDP_Group')['Internet_Users_Pct'].median()"
   ]
  },
  {
   "cell_type": "code",
   "execution_count": null,
   "id": "ccf66c07",
   "metadata": {},
   "outputs": [],
   "source": []
  }
 ],
 "metadata": {
  "kernelspec": {
   "display_name": "Python 3 (ipykernel)",
   "language": "python",
   "name": "python3"
  },
  "language_info": {
   "codemirror_mode": {
    "name": "ipython",
    "version": 3
   },
   "file_extension": ".py",
   "mimetype": "text/x-python",
   "name": "python",
   "nbconvert_exporter": "python",
   "pygments_lexer": "ipython3",
   "version": "3.10.9"
  }
 },
 "nbformat": 4,
 "nbformat_minor": 5
}
